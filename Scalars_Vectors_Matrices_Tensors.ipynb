{
  "nbformat": 4,
  "nbformat_minor": 0,
  "metadata": {
    "colab": {
      "provenance": [],
      "authorship_tag": "ABX9TyP5/jFvEyMlAVDvfITmTYlo",
      "include_colab_link": true
    },
    "kernelspec": {
      "name": "python3",
      "display_name": "Python 3"
    },
    "language_info": {
      "name": "python"
    }
  },
  "cells": [
    {
      "cell_type": "markdown",
      "metadata": {
        "id": "view-in-github",
        "colab_type": "text"
      },
      "source": [
        "<a href=\"https://colab.research.google.com/github/alxmart/Scalars-Vectors-Matrices-Tensors/blob/master/Scalars_Vectors_Matrices_Tensors.ipynb\" target=\"_parent\"><img src=\"https://colab.research.google.com/assets/colab-badge.svg\" alt=\"Open In Colab\"/></a>"
      ]
    },
    {
      "cell_type": "code",
      "execution_count": 49,
      "metadata": {
        "id": "YLTtuYeIGcX0"
      },
      "outputs": [],
      "source": [
        "import numpy\n",
        "\n",
        "# Scalar code example\n",
        "x = 5\n",
        "\n",
        "# Vector code example\n",
        "v = numpy.array([1, 2, 3, 4])\n",
        "\n",
        "# Matrix code example\n",
        "m = numpy.array([[1, 2, 3], [4, 5, 6], [7, 8, 9]])"
      ]
    },
    {
      "cell_type": "code",
      "source": [
        "x"
      ],
      "metadata": {
        "colab": {
          "base_uri": "https://localhost:8080/"
        },
        "id": "lquzXoClHdSm",
        "outputId": "840e6f5a-c0a8-4899-bbc3-2101000f178d"
      },
      "execution_count": 50,
      "outputs": [
        {
          "output_type": "execute_result",
          "data": {
            "text/plain": [
              "5"
            ]
          },
          "metadata": {},
          "execution_count": 50
        }
      ]
    },
    {
      "cell_type": "code",
      "source": [
        "v"
      ],
      "metadata": {
        "colab": {
          "base_uri": "https://localhost:8080/"
        },
        "id": "7DmvQjruHgw7",
        "outputId": "fc50a184-8973-4de3-dba3-0d3f2346a5b9"
      },
      "execution_count": 51,
      "outputs": [
        {
          "output_type": "execute_result",
          "data": {
            "text/plain": [
              "array([1, 2, 3, 4])"
            ]
          },
          "metadata": {},
          "execution_count": 51
        }
      ]
    },
    {
      "cell_type": "code",
      "source": [
        "m"
      ],
      "metadata": {
        "colab": {
          "base_uri": "https://localhost:8080/"
        },
        "id": "b83Md_gDHjwU",
        "outputId": "42070a46-f5d0-496b-abbc-8ef0df81afcb"
      },
      "execution_count": 52,
      "outputs": [
        {
          "output_type": "execute_result",
          "data": {
            "text/plain": [
              "array([[1, 2, 3],\n",
              "       [4, 5, 6],\n",
              "       [7, 8, 9]])"
            ]
          },
          "metadata": {},
          "execution_count": 52
        }
      ]
    },
    {
      "cell_type": "code",
      "source": [
        "import numpy as np\n",
        "\n",
        "# A 0-D tensor would be a scalar\n",
        "x0d_tensor_scalar = 5\n",
        "\n",
        "# A 1-D tensor would be a vector\n",
        "x1d_tensor_vector = numpy.array([1, 2, 3])\n",
        "\n",
        "#A 2-D tensor would be a matrix\n",
        "x2d_tensor_matrix = numpy.array([[1, 2], [3, 4], [5, 6]])\n",
        "\n",
        "# A 3-D tensor would be a \"cube\" or a \"stack\" of matrices\n",
        "x3d_tensor_cube = numpy.array([[[1, 2, 3], [4, 5, 6]], [[7, 8, 9], [10, 11, 12]]])\n",
        "\n",
        "print(f\"x0d / Tensor_Scalar:\\n {x0d_tensor_scalar}\\n===============\\n\")\n",
        "\n",
        "print(f\"x1d / Tensor_Vector:\\n {x1d_tensor_vector}\\n===============\\n\")\n",
        "\n",
        "print(f\"x2d: / Tensor_Matrix\\n {x2d_tensor_matrix}\\n===============\\n\")\n",
        "\n",
        "print(f\"x3d: / Tensor_Cube\\n  {x3d_tensor_cube}\\n===============\\n\")\n",
        "\n"
      ],
      "metadata": {
        "colab": {
          "base_uri": "https://localhost:8080/"
        },
        "id": "Nh2rxBHxJw6Z",
        "outputId": "e5fca962-0ce2-40ee-fd6f-da0948f0a70d"
      },
      "execution_count": 55,
      "outputs": [
        {
          "output_type": "stream",
          "name": "stdout",
          "text": [
            "x0d / Tensor_Scalar:\n",
            " 5\n",
            "===============\n",
            "\n",
            "x1d / Tensor_Vector:\n",
            " [1 2 3]\n",
            "===============\n",
            "\n",
            "x2d: / Tensor_Matrix\n",
            " [[1 2]\n",
            " [3 4]\n",
            " [5 6]]\n",
            "===============\n",
            "\n",
            "x3d: / Tensor_Cube\n",
            "  [[[ 1  2  3]\n",
            "  [ 4  5  6]]\n",
            "\n",
            " [[ 7  8  9]\n",
            "  [10 11 12]]]\n",
            "===============\n",
            "\n"
          ]
        }
      ]
    }
  ]
}