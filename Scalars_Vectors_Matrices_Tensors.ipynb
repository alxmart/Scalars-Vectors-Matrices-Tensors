{
  "nbformat": 4,
  "nbformat_minor": 0,
  "metadata": {
    "colab": {
      "provenance": [],
      "authorship_tag": "ABX9TyPtDjGh0mnpEQLaJ2wT+PDp",
      "include_colab_link": true
    },
    "kernelspec": {
      "name": "python3",
      "display_name": "Python 3"
    },
    "language_info": {
      "name": "python"
    }
  },
  "cells": [
    {
      "cell_type": "markdown",
      "metadata": {
        "id": "view-in-github",
        "colab_type": "text"
      },
      "source": [
        "<a href=\"https://colab.research.google.com/github/alxmart/Scalars-Vectors-Matrices-Tensors/blob/master/Scalars_Vectors_Matrices_Tensors.ipynb\" target=\"_parent\"><img src=\"https://colab.research.google.com/assets/colab-badge.svg\" alt=\"Open In Colab\"/></a>"
      ]
    },
    {
      "cell_type": "code",
      "execution_count": 61,
      "metadata": {
        "id": "YLTtuYeIGcX0"
      },
      "outputs": [],
      "source": [
        "import numpy\n",
        "\n",
        "# Scalar code example\n",
        "xscalar = 5\n",
        "\n",
        "# Vector code example\n",
        "xvector = numpy.array([1, 2, 3, 4])\n",
        "\n",
        "# Matrix code example\n",
        "xmatrix = numpy.array([[1, 2, 3], [4, 5, 6], [7, 8, 9]])"
      ]
    },
    {
      "cell_type": "code",
      "source": [
        "xscalar"
      ],
      "metadata": {
        "colab": {
          "base_uri": "https://localhost:8080/"
        },
        "id": "lquzXoClHdSm",
        "outputId": "2ebffc58-5210-4ddb-9988-892d4798561e"
      },
      "execution_count": 62,
      "outputs": [
        {
          "output_type": "execute_result",
          "data": {
            "text/plain": [
              "5"
            ]
          },
          "metadata": {},
          "execution_count": 62
        }
      ]
    },
    {
      "cell_type": "code",
      "source": [
        "xvector"
      ],
      "metadata": {
        "colab": {
          "base_uri": "https://localhost:8080/"
        },
        "id": "7DmvQjruHgw7",
        "outputId": "6f1ac0f0-27b5-4ba3-e029-4902d1887cfa"
      },
      "execution_count": 63,
      "outputs": [
        {
          "output_type": "execute_result",
          "data": {
            "text/plain": [
              "array([1, 2, 3, 4])"
            ]
          },
          "metadata": {},
          "execution_count": 63
        }
      ]
    },
    {
      "cell_type": "code",
      "source": [
        "xmatrix"
      ],
      "metadata": {
        "colab": {
          "base_uri": "https://localhost:8080/"
        },
        "id": "b83Md_gDHjwU",
        "outputId": "6d9c46ae-3aff-4e62-bbf3-70a7ef9fc0c0"
      },
      "execution_count": 64,
      "outputs": [
        {
          "output_type": "execute_result",
          "data": {
            "text/plain": [
              "array([[1, 2, 3],\n",
              "       [4, 5, 6],\n",
              "       [7, 8, 9]])"
            ]
          },
          "metadata": {},
          "execution_count": 64
        }
      ]
    },
    {
      "cell_type": "code",
      "source": [
        "import numpy as np\n",
        "\n",
        "# A 0-D tensor would be a scalar\n",
        "x0d_tensor_scalar = 5\n",
        "\n",
        "# A 1-D tensor would be a vector\n",
        "x1d_tensor_vector = numpy.array([1, 2, 3])\n",
        "\n",
        "#A 2-D tensor would be a matrix\n",
        "x2d_tensor_matrix = numpy.array([[1, 2], [3, 4], [5, 6]])\n",
        "\n",
        "# A 3-D tensor would be a \"cube\" or a \"stack\" of matrices\n",
        "x3d_tensor_cube = numpy.array([[[1, 2, 3], [4, 5, 6]], [[7, 8, 9], [10, 11, 12]]])\n",
        "\n",
        "print(f\"x0d / Tensor_Scalar:\\n {x0d_tensor_scalar}\\n===============\\n\")\n",
        "\n",
        "print(f\"x1d / Tensor_Vector:\\n {x1d_tensor_vector}\\n===============\\n\")\n",
        "\n",
        "print(f\"x2d: / Tensor_Matrix\\n {x2d_tensor_matrix}\\n===============\\n\")\n",
        "\n",
        "print(f\"x3d: / Tensor_Cube\\n  {x3d_tensor_cube}\\n===============\\n\")\n",
        "\n"
      ],
      "metadata": {
        "colab": {
          "base_uri": "https://localhost:8080/"
        },
        "id": "Nh2rxBHxJw6Z",
        "outputId": "5167398b-95b7-4a9e-cc9b-857614ae0264"
      },
      "execution_count": 65,
      "outputs": [
        {
          "output_type": "stream",
          "name": "stdout",
          "text": [
            "x0d / Tensor_Scalar:\n",
            " 5\n",
            "===============\n",
            "\n",
            "x1d / Tensor_Vector:\n",
            " [1 2 3]\n",
            "===============\n",
            "\n",
            "x2d: / Tensor_Matrix\n",
            " [[1 2]\n",
            " [3 4]\n",
            " [5 6]]\n",
            "===============\n",
            "\n",
            "x3d: / Tensor_Cube\n",
            "  [[[ 1  2  3]\n",
            "  [ 4  5  6]]\n",
            "\n",
            " [[ 7  8  9]\n",
            "  [10 11 12]]]\n",
            "===============\n",
            "\n"
          ]
        }
      ]
    }
  ]
}